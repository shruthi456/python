{
 "cells": [
  {
   "cell_type": "code",
   "execution_count": 1,
   "id": "e62ee524-d357-443e-8763-4d8f229a7243",
   "metadata": {},
   "outputs": [
    {
     "data": {
      "text/plain": [
       "<__main__.Emp at 0x1b8b4650f50>"
      ]
     },
     "execution_count": 1,
     "metadata": {},
     "output_type": "execute_result"
    }
   ],
   "source": [
    "class Emp:\n",
    "    pass\n",
    "\n",
    "Emp()\n",
    "Emp()\n",
    "Emp()"
   ]
  },
  {
   "cell_type": "code",
   "execution_count": 2,
   "id": "d1e60973-ba67-4a3c-854f-df4658446b80",
   "metadata": {},
   "outputs": [
    {
     "name": "stdout",
     "output_type": "stream",
     "text": [
      "<__main__.Emp object at 0x000001B8B5896EA0>\n",
      "<__main__.Emp object at 0x000001B8B58976B0>\n",
      "<__main__.Emp object at 0x000001B8B58978C0>\n"
     ]
    }
   ],
   "source": [
    "class Emp:\n",
    "    pass\n",
    "\n",
    "e1=Emp()\n",
    "e2=Emp()\n",
    "e3=Emp()\n",
    "\n",
    "print(e1)\n",
    "print(e2)\n",
    "print(e3)"
   ]
  },
  {
   "cell_type": "code",
   "execution_count": 3,
   "id": "adb9ddbe-33bc-40db-8d65-eaa70af2469a",
   "metadata": {},
   "outputs": [
    {
     "name": "stdout",
     "output_type": "stream",
     "text": [
      "1892809620656\n",
      "1892831293088\n",
      "1892831295152\n"
     ]
    }
   ],
   "source": [
    "class Emp:\n",
    "    pass\n",
    "\n",
    "e1=Emp()\n",
    "e2=Emp()\n",
    "e3=Emp()\n",
    "\n",
    "print(id(e1))\n",
    "print(id(e2))\n",
    "print(id(e3))"
   ]
  },
  {
   "cell_type": "code",
   "execution_count": 4,
   "id": "d0cf1d92-382d-4a44-9443-aec40d81b6fe",
   "metadata": {},
   "outputs": [
    {
     "name": "stdout",
     "output_type": "stream",
     "text": [
      "10\n",
      "Rahul\n",
      "<class '__main__.Emp'>\n",
      "<class 'int'>\n",
      "<class 'str'>\n",
      "<class 'type'>\n"
     ]
    }
   ],
   "source": [
    "a=10\n",
    "ename=\"Rahul\"\n",
    "\n",
    "class Emp:\n",
    "    pass\n",
    "\n",
    "e1=Emp\n",
    "print(a)\n",
    "print(ename)\n",
    "print(e1)\n",
    "print(type(a))\n",
    "print(type(ename))\n",
    "print(type(e1))"
   ]
  },
  {
   "cell_type": "code",
   "execution_count": 5,
   "id": "0371ab70-8870-4300-bb03-ed12f0f28685",
   "metadata": {},
   "outputs": [
    {
     "name": "stdout",
     "output_type": "stream",
     "text": [
      "<__main__.Account object at 0x000001B8B58D38F0>\n",
      "1892831541488\n",
      "<class '__main__.Account'>\n"
     ]
    }
   ],
   "source": [
    "class Account:\n",
    "    pass\n",
    "\n",
    "a1=Account()\n",
    "a2=Account()\n",
    "print(a1)\n",
    "print(id(a1))\n",
    "print(type(a1))"
   ]
  },
  {
   "cell_type": "code",
   "execution_count": 10,
   "id": "a9695d0c-a360-4475-b3e8-6a95d339209f",
   "metadata": {},
   "outputs": [
    {
     "name": "stdout",
     "output_type": "stream",
     "text": [
      "<__main__.Account object at 0x000001B8B58ED940>\n",
      "1892831648064\n",
      "<class '__main__.Account'>\n",
      "{}\n"
     ]
    }
   ],
   "source": [
    "class Account:\n",
    "    min_bal=500\n",
    "\n",
    "a1=Account()\n",
    "print(a1)\n",
    "print(id(a1))\n",
    "print(type(a1))\n",
    "print(a1.__dict__)"
   ]
  },
  {
   "cell_type": "code",
   "execution_count": 20,
   "id": "2138575b-ba4f-4a4b-8657-bb9affe4a7e7",
   "metadata": {},
   "outputs": [
    {
     "name": "stdout",
     "output_type": "stream",
     "text": [
      "<__main__.Account object at 0x000001B8B59E7FB0>\n",
      "1892832673712\n",
      "<class '__main__.Account'>\n",
      "{'__module__': '__main__', 'min_bal': 500, '__dict__': <attribute '__dict__' of 'Account' objects>, '__weakref__': <attribute '__weakref__' of 'Account' objects>, '__doc__': None}\n"
     ]
    }
   ],
   "source": [
    "class Account:\n",
    "    min_bal=500\n",
    "\n",
    "a1=Account()\n",
    "print(a1)\n",
    "print(id(a1))\n",
    "print(type(a1))\n",
    "print(Account.__dict__)"
   ]
  },
  {
   "cell_type": "code",
   "execution_count": 22,
   "id": "28b350f2-1299-416c-8862-ba5eef2c8ede",
   "metadata": {},
   "outputs": [
    {
     "name": "stdout",
     "output_type": "stream",
     "text": [
      "<__main__.Emp object at 0x000001B8B59E5580>\n",
      "{}\n"
     ]
    }
   ],
   "source": [
    "class Emp:\n",
    "    eid=101\n",
    "    eloc=\"Banglore\"\n",
    "\n",
    "def get_details(self):\n",
    "    pass\n",
    "\n",
    "@classmethod\n",
    "def set_loc(cls):\n",
    "    pass\n",
    "\n",
    "@staticmethod\n",
    "def emp_details(a,b):\n",
    "    pass\n",
    "\n",
    "e1=Emp()\n",
    "print(e1)\n",
    "print(e1.__dict__)\n"
   ]
  },
  {
   "cell_type": "code",
   "execution_count": 23,
   "id": "be67d77c-ec53-4586-9165-7f6612c8769e",
   "metadata": {},
   "outputs": [
    {
     "name": "stdout",
     "output_type": "stream",
     "text": [
      "<__main__.Emp object at 0x000001B8B58D38F0>\n",
      "{}\n"
     ]
    }
   ],
   "source": [
    "class Emp:\n",
    "    eid=101\n",
    "\n",
    "def __init__(self):\n",
    "    pass\n",
    "\n",
    "def get_details(self):\n",
    "    pass\n",
    "\n",
    "@classmethod\n",
    "def set_loc(cls):\n",
    "    pass\n",
    "\n",
    "@staticmethod\n",
    "def emp_details(a,b):\n",
    "    pass\n",
    "\n",
    "e1=Emp()\n",
    "print(e1)\n",
    "print(e1.__dict__)"
   ]
  },
  {
   "cell_type": "code",
   "execution_count": 24,
   "id": "889cae07-5a34-49fd-a06f-3cbf25e0d4b6",
   "metadata": {},
   "outputs": [
    {
     "name": "stdout",
     "output_type": "stream",
     "text": [
      "<__main__.Emp object at 0x000001B8B59E5E80>\n",
      "{}\n"
     ]
    }
   ],
   "source": [
    "class Emp:\n",
    "    eid=101\n",
    "\n",
    "def __init__(self):\n",
    "    self.a=100\n",
    "\n",
    "def get_details(self):\n",
    "    pass\n",
    "\n",
    "@classmethod\n",
    "def set_loc(cls):\n",
    "    pass\n",
    "\n",
    "@staticmethod\n",
    "def emp_details(a,b):\n",
    "    pass\n",
    "\n",
    "e1=Emp()\n",
    "print(e1)\n",
    "print(e1.__dict__)"
   ]
  },
  {
   "cell_type": "code",
   "execution_count": 26,
   "id": "9864b85d-a20a-497b-828a-e796d3d8514f",
   "metadata": {},
   "outputs": [
    {
     "name": "stdout",
     "output_type": "stream",
     "text": [
      "{'__module__': '__main__', 'eid': 101, 'ename': 'Rahul', 'esal': 4500, '__dict__': <attribute '__dict__' of 'Employee' objects>, '__weakref__': <attribute '__weakref__' of 'Employee' objects>, '__doc__': None}\n"
     ]
    }
   ],
   "source": [
    "class Employee:\n",
    "    eid=101\n",
    "    ename=\"Rahul\"\n",
    "    esal=4500\n",
    "\n",
    "e1=Employee()\n",
    "#print(e1.__dict__)\n",
    "print(Employee.__dict__)"
   ]
  },
  {
   "cell_type": "code",
   "execution_count": null,
   "id": "32e2a5ec-6fc5-4060-b01b-974f76d56f80",
   "metadata": {},
   "outputs": [],
   "source": []
  }
 ],
 "metadata": {
  "kernelspec": {
   "display_name": "Python 3 (ipykernel)",
   "language": "python",
   "name": "python3"
  },
  "language_info": {
   "codemirror_mode": {
    "name": "ipython",
    "version": 3
   },
   "file_extension": ".py",
   "mimetype": "text/x-python",
   "name": "python",
   "nbconvert_exporter": "python",
   "pygments_lexer": "ipython3",
   "version": "3.12.3"
  }
 },
 "nbformat": 4,
 "nbformat_minor": 5
}
