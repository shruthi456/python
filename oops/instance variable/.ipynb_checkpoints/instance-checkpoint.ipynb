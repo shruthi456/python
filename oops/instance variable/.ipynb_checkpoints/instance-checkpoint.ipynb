{
 "cells": [
  {
   "cell_type": "code",
   "execution_count": 1,
   "id": "10396033-7c64-4e82-9f8e-eb080f74360d",
   "metadata": {},
   "outputs": [
    {
     "name": "stdout",
     "output_type": "stream",
     "text": [
      "{'a': 100, 'b': 200, 'c': 300}\n",
      "{'a': 100, 'd': 400}\n",
      "{'__module__': '__main__', '__init__': <function Test.__init__ at 0x000002E4A190C220>, 'm1': <function Test.m1 at 0x000002E4A190C2C0>, '__dict__': <attribute '__dict__' of 'Test' objects>, '__weakref__': <attribute '__weakref__' of 'Test' objects>, '__doc__': None}\n"
     ]
    }
   ],
   "source": [
    "class Test:\n",
    "\n",
    "    def __init__(self):\n",
    "        self.a=100\n",
    "\n",
    "    def m1(self):\n",
    "        self.b=200\n",
    "\n",
    "\n",
    "t1=Test()\n",
    "t1.m1()\n",
    "t1.c=300\n",
    "t2=Test()\n",
    "t2.d=400\n",
    "\n",
    "print(t1.__dict__)\n",
    "print(t2.__dict__)\n",
    "print(Test.__dict__)\n"
   ]
  },
  {
   "cell_type": "code",
   "execution_count": 3,
   "id": "b94b6fb1-d475-4d65-8fcd-5b00dcc0d2bc",
   "metadata": {},
   "outputs": [
    {
     "name": "stdout",
     "output_type": "stream",
     "text": [
      "{'b': 200}\n",
      "{'a': 100, 'd': 400}\n",
      "{'__module__': '__main__', '__init__': <function Test.__init__ at 0x000002E4A190C4A0>, 'm1': <function Test.m1 at 0x000002E4A190C040>, '__dict__': <attribute '__dict__' of 'Test' objects>, '__weakref__': <attribute '__weakref__' of 'Test' objects>, '__doc__': None}\n"
     ]
    }
   ],
   "source": [
    "class Test:\n",
    "\n",
    "    def __init__(self):\n",
    "        self.a=100\n",
    "\n",
    "    def m1(self):\n",
    "        self.b=200\n",
    "\n",
    "\n",
    "t1=Test()\n",
    "t1.m1()\n",
    "t1.c=300\n",
    "t2=Test()\n",
    "t2.d=400\n",
    "\n",
    "del t1.a\n",
    "del t1.c\n",
    "\n",
    "print(t1.__dict__)\n",
    "print(t2.__dict__)\n",
    "print(Test.__dict__)"
   ]
  },
  {
   "cell_type": "code",
   "execution_count": null,
   "id": "ce31d71e-49a7-4523-843d-cd10284a4e38",
   "metadata": {},
   "outputs": [],
   "source": []
  }
 ],
 "metadata": {
  "kernelspec": {
   "display_name": "Python 3 (ipykernel)",
   "language": "python",
   "name": "python3"
  },
  "language_info": {
   "codemirror_mode": {
    "name": "ipython",
    "version": 3
   },
   "file_extension": ".py",
   "mimetype": "text/x-python",
   "name": "python",
   "nbconvert_exporter": "python",
   "pygments_lexer": "ipython3",
   "version": "3.12.3"
  }
 },
 "nbformat": 4,
 "nbformat_minor": 5
}
