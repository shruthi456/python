{
 "cells": [
  {
   "cell_type": "code",
   "execution_count": 1,
   "id": "e28991f7-8415-4029-8842-bd51ce8db81a",
   "metadata": {},
   "outputs": [
    {
     "name": "stdout",
     "output_type": "stream",
     "text": [
      "{}\n",
      "{}\n",
      "{'__module__': '__main__', 'org_name': 'TCS', '__init__': <function Test.__init__ at 0x0000028186DAC220>, 'm1': <function Test.m1 at 0x0000028186DAC2C0>, 'm2': <classmethod(<function Test.m2 at 0x0000028186DAC360>)>, 'm3': <staticmethod(<function Test.m3 at 0x0000028186DAC400>)>, '__dict__': <attribute '__dict__' of 'Test' objects>, '__weakref__': <attribute '__weakref__' of 'Test' objects>, '__doc__': None}\n"
     ]
    }
   ],
   "source": [
    "class Test:\n",
    "    org_name=\"TCS\"\n",
    "\n",
    "    def __init__(self):\n",
    "        pass\n",
    "\n",
    "    def m1(self):\n",
    "        pass\n",
    "\n",
    "    @classmethod\n",
    "    def m2 (cls):\n",
    "        pass\n",
    "\n",
    "    @staticmethod\n",
    "    def m3 ():\n",
    "        pass\n",
    "\n",
    "\n",
    "t1=Test()\n",
    "t2=Test()\n",
    "\n",
    "\n",
    "print(t1.__dict__)\n",
    "print(t2.__dict__)\n",
    "print(Test.__dict__)"
   ]
  },
  {
   "cell_type": "code",
   "execution_count": 4,
   "id": "900d4773-b072-4cce-a8d3-778328521197",
   "metadata": {},
   "outputs": [
    {
     "name": "stdout",
     "output_type": "stream",
     "text": [
      "{}\n",
      "{}\n",
      "{'__module__': '__main__', 'org_name': 'TCS', '__init__': <function Test.__init__ at 0x0000028186DAC040>, 'm1': <function Test.m1 at 0x0000028186DAC720>, 'm2': <classmethod(<function Test.m2 at 0x0000028186DAC7C0>)>, 'm3': <staticmethod(<function Test.m3 at 0x0000028186DAC860>)>, '__dict__': <attribute '__dict__' of 'Test' objects>, '__weakref__': <attribute '__weakref__' of 'Test' objects>, '__doc__': None, 'loc': 'Bangalore', 'country': 'India', 'pincode': 560001, 'countrycode': 91, 'avaibality': True, 'discount': 10}\n"
     ]
    }
   ],
   "source": [
    "class Test:\n",
    "    org_name=\"TCS\"\n",
    "\n",
    "    def __init__(self):\n",
    "        Test.loc=\"Bangalore\"\n",
    "\n",
    "    def m1(self):\n",
    "        Test.country=\"India\"\n",
    "        \n",
    "\n",
    "    @classmethod\n",
    "    def m2 (cls):\n",
    "        cls.pincode=560001\n",
    "        Test.countrycode=91\n",
    "\n",
    "    @staticmethod\n",
    "    def m3 ():\n",
    "        Test.avaibality=True\n",
    "\n",
    "\n",
    "t1=Test()\n",
    "t1.m1()\n",
    "t1.m2()\n",
    "t1.m3()\n",
    "Test.discount=10\n",
    "\n",
    "\n",
    "\n",
    "print(t1.__dict__)\n",
    "t2=Test()\n",
    "print(t2.__dict__)\n",
    "print(Test.__dict__)"
   ]
  },
  {
   "cell_type": "code",
   "execution_count": null,
   "id": "3c60dd42-03f0-49ed-af18-2e56660c51f0",
   "metadata": {},
   "outputs": [],
   "source": []
  }
 ],
 "metadata": {
  "kernelspec": {
   "display_name": "Python 3 (ipykernel)",
   "language": "python",
   "name": "python3"
  },
  "language_info": {
   "codemirror_mode": {
    "name": "ipython",
    "version": 3
   },
   "file_extension": ".py",
   "mimetype": "text/x-python",
   "name": "python",
   "nbconvert_exporter": "python",
   "pygments_lexer": "ipython3",
   "version": "3.12.3"
  }
 },
 "nbformat": 4,
 "nbformat_minor": 5
}
