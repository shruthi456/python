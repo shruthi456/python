{
 "cells": [
  {
   "cell_type": "code",
   "execution_count": 9,
   "id": "65dea3a2-b6df-4830-bd0a-cf515f0b642f",
   "metadata": {},
   "outputs": [
    {
     "name": "stdout",
     "output_type": "stream",
     "text": [
      "2\n"
     ]
    }
   ],
   "source": [
    "#count()\n",
    "ids=[101,101,103,108,19,108,107]\n",
    "ids.count(101)\n",
    "print(ids.count(101))"
   ]
  },
  {
   "cell_type": "code",
   "execution_count": 15,
   "id": "baa66858-a0a7-4627-931a-9c92e77822b9",
   "metadata": {},
   "outputs": [
    {
     "name": "stdout",
     "output_type": "stream",
     "text": [
      "1\n"
     ]
    }
   ],
   "source": [
    "#index\n",
    "ids=[101,102,294,489,980,908876,908]\n",
    "ids.index(102)\n",
    "print(ids.index(102))"
   ]
  },
  {
   "cell_type": "code",
   "execution_count": 16,
   "id": "fadcab66-cdaa-479e-a28c-f740cb1ea3f6",
   "metadata": {},
   "outputs": [
    {
     "name": "stdout",
     "output_type": "stream",
     "text": [
      "[10, 20, 30, 40]\n",
      "[10, 20, 30, 40]\n"
     ]
    }
   ],
   "source": [
    "#clone\n",
    "l1=[10,20,30,40]\n",
    "l2=l1\n",
    "print(l1)\n",
    "print(l2)"
   ]
  },
  {
   "cell_type": "code",
   "execution_count": 18,
   "id": "e41fa633-5555-4be5-832e-b746dc94fc5f",
   "metadata": {},
   "outputs": [
    {
     "name": "stdout",
     "output_type": "stream",
     "text": [
      "[10, 20, 30, 49, 58, 462, 9]\n",
      "[10, 20, 30, 49, 58, 462, 9]\n"
     ]
    }
   ],
   "source": [
    "l1=[10,20,30,49,58,462,9]\n",
    "l2=l1.copy()\n",
    "print(l1)\n",
    "print(l2)"
   ]
  },
  {
   "cell_type": "code",
   "execution_count": 22,
   "id": "e3ee93c9-0e62-4cee-a62e-e3e718184e57",
   "metadata": {},
   "outputs": [
    {
     "name": "stdout",
     "output_type": "stream",
     "text": [
      "[34, 5, 4, 67, 24, 244, 342]\n",
      "[10, 46, 30, 49, 58, 462, 9]\n",
      "[34, 5, 4, 67, 24, 244, 342]\n"
     ]
    }
   ],
   "source": [
    "l1=[34,5,4,67,24,244,342]\n",
    "l2[1]=46\n",
    "l3=l1[:]\n",
    "print(l1)\n",
    "print(l2)\n",
    "print(l3)"
   ]
  },
  {
   "cell_type": "code",
   "execution_count": null,
   "id": "8d4eb684-9ad5-4069-933a-67d9f83112f9",
   "metadata": {},
   "outputs": [],
   "source": []
  }
 ],
 "metadata": {
  "kernelspec": {
   "display_name": "Python 3 (ipykernel)",
   "language": "python",
   "name": "python3"
  },
  "language_info": {
   "codemirror_mode": {
    "name": "ipython",
    "version": 3
   },
   "file_extension": ".py",
   "mimetype": "text/x-python",
   "name": "python",
   "nbconvert_exporter": "python",
   "pygments_lexer": "ipython3",
   "version": "3.12.3"
  }
 },
 "nbformat": 4,
 "nbformat_minor": 5
}
