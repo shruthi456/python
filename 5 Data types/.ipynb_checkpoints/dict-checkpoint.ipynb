{
 "cells": [
  {
   "cell_type": "code",
   "execution_count": 6,
   "id": "cdf59d8f-761f-4728-9f8d-c2f583230044",
   "metadata": {},
   "outputs": [
    {
     "name": "stdout",
     "output_type": "stream",
     "text": [
      "101\n",
      "Rahul\n",
      "4500\n"
     ]
    }
   ],
   "source": [
    "emp={\n",
    "    'id':101,\n",
    "    'name':'Rahul',\n",
    "    'sal':4500\n",
    "}\n",
    "\n",
    "print (emp['id'])\n",
    "print (emp['name'])\n",
    "print (emp ['sal'])"
   ]
  },
  {
   "cell_type": "code",
   "execution_count": 8,
   "id": "6a18041a-8fc9-40a7-a945-634cd62f1129",
   "metadata": {},
   "outputs": [
    {
     "name": "stdout",
     "output_type": "stream",
     "text": [
      "Rahul\n",
      "Sonia\n",
      "Priyanka\n",
      "Sushma\n"
     ]
    }
   ],
   "source": [
    "users={\n",
    "    101:'Rahul',\n",
    "    102:'Sonia',\n",
    "    103:'Priyanka',\n",
    "    104:'Sushma'\n",
    "}\n",
    "print(users[101])\n",
    "print(users[102])\n",
    "print(users[103])\n",
    "print(users[104])"
   ]
  },
  {
   "cell_type": "code",
   "execution_count": 12,
   "id": "f8d56749-580b-49f7-a6de-af9d6028c9ca",
   "metadata": {},
   "outputs": [
    {
     "name": "stdout",
     "output_type": "stream",
     "text": [
      "<class 'dict_keys'>\n"
     ]
    }
   ],
   "source": [
    "emp={'id':101,'name':'Sushma','sal':45000}\n",
    "keys=emp.keys()\n",
    "print(type(keys))"
   ]
  },
  {
   "cell_type": "code",
   "execution_count": 21,
   "id": "12bf1791-5374-4607-a97c-c805f105847c",
   "metadata": {},
   "outputs": [
    {
     "name": "stdout",
     "output_type": "stream",
     "text": [
      "dict_keys(['id', 'name', 'sal'])\n",
      "dict_keys(['id', 'name', 'sal'])\n",
      "dict_keys(['id', 'name', 'sal'])\n"
     ]
    }
   ],
   "source": [
    "emp={'id':101,'name':'Sushma','sal':45000}\n",
    "for key in keys:\n",
    "    print(keys)"
   ]
  },
  {
   "cell_type": "code",
   "execution_count": 22,
   "id": "87a3cffd-ff3d-46f1-823f-53368b4f55f5",
   "metadata": {},
   "outputs": [
    {
     "name": "stdout",
     "output_type": "stream",
     "text": [
      "id\n",
      "name\n",
      "sal\n"
     ]
    }
   ],
   "source": [
    "values={'id':101,'name':'Sushma','sal':45000}\n",
    "for value in values:\n",
    "    print(value)\n"
   ]
  },
  {
   "cell_type": "code",
   "execution_count": 24,
   "id": "361d11d8-2fc9-410a-a457-54031bba3d35",
   "metadata": {},
   "outputs": [
    {
     "name": "stdout",
     "output_type": "stream",
     "text": [
      "101\n",
      "Sushma\n",
      "45000\n"
     ]
    }
   ],
   "source": [
    "emp={'id':101,'name':'Sushma','sal':45000}\n",
    "for key in emp.keys():\n",
    "    print(emp[key])"
   ]
  },
  {
   "cell_type": "code",
   "execution_count": 25,
   "id": "55729ca7-bbaa-41cd-9b14-ea9915175bcf",
   "metadata": {},
   "outputs": [
    {
     "name": "stdout",
     "output_type": "stream",
     "text": [
      "dict_items([('id', 101), ('name', 'Sushma'), ('sal', 45000)])\n"
     ]
    }
   ],
   "source": [
    "emp={'id':101,'name':'Sushma','sal':45000}\n",
    "items=emp.items()\n",
    "print(emp.items())"
   ]
  },
  {
   "cell_type": "code",
   "execution_count": 26,
   "id": "e874cf1f-144f-4f49-aa5e-7189db2be798",
   "metadata": {},
   "outputs": [
    {
     "name": "stdout",
     "output_type": "stream",
     "text": [
      "id : 101\n",
      "name : Sushma\n",
      "sal : 45000\n"
     ]
    }
   ],
   "source": [
    "emp={'id':101,'name':'Sushma','sal':45000}\n",
    "for key,value in items:\n",
    "    print(key,\":\",value)"
   ]
  },
  {
   "cell_type": "code",
   "execution_count": 33,
   "id": "6df9567a-5225-46be-aace-dffb5e9a7094",
   "metadata": {},
   "outputs": [
    {
     "name": "stdout",
     "output_type": "stream",
     "text": [
      "None\n",
      "Sushma\n",
      "45000\n",
      "raful@email.com\n"
     ]
    }
   ],
   "source": [
    "emp={'id':101,'name':'Sushma','sal':45000}\n",
    "#emp=('email':'rahul@gmail.com')\n",
    "print(emp.get('eid'))\n",
    "print(emp.get('name'))\n",
    "print(emp.get('sal'))\n",
    "print(emp.get('email','raful@email.com'))\n"
   ]
  },
  {
   "cell_type": "code",
   "execution_count": null,
   "id": "a02cf684-4675-486b-8acf-65aa2311d7a1",
   "metadata": {},
   "outputs": [],
   "source": []
  }
 ],
 "metadata": {
  "kernelspec": {
   "display_name": "Python 3 (ipykernel)",
   "language": "python",
   "name": "python3"
  },
  "language_info": {
   "codemirror_mode": {
    "name": "ipython",
    "version": 3
   },
   "file_extension": ".py",
   "mimetype": "text/x-python",
   "name": "python",
   "nbconvert_exporter": "python",
   "pygments_lexer": "ipython3",
   "version": "3.12.3"
  }
 },
 "nbformat": 4,
 "nbformat_minor": 5
}
