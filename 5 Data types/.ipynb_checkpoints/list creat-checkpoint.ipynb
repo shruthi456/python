{
 "cells": [
  {
   "cell_type": "code",
   "execution_count": 2,
   "id": "25ab6983-d6c6-4f3b-9026-fea7ce2d0e3d",
   "metadata": {},
   "outputs": [
    {
     "name": "stdout",
     "output_type": "stream",
     "text": [
      "[]\n",
      "<class 'list'>\n"
     ]
    }
   ],
   "source": [
    "#empty list\n",
    "l1=[]\n",
    "print(l1)\n",
    "print (type(l1))"
   ]
  },
  {
   "cell_type": "code",
   "execution_count": 4,
   "id": "cec5a945-2e5c-44ba-9d93-af2120a760c4",
   "metadata": {},
   "outputs": [
    {
     "name": "stdout",
     "output_type": "stream",
     "text": [
      "<class 'list'>\n",
      "[10, 20, 30, 40, 10, 20]\n"
     ]
    }
   ],
   "source": [
    "#list allows dupicates\n",
    "l1=[10,20,30,40,10,20]\n",
    "print(type(l1))\n",
    "print(l1)"
   ]
  },
  {
   "cell_type": "code",
   "execution_count": 7,
   "id": "6537f0c9-b461-4f9e-ae02-4de08e5edf4f",
   "metadata": {},
   "outputs": [
    {
     "name": "stdout",
     "output_type": "stream",
     "text": [
      "[10, 20, 30]\n",
      "[10, 20, 30]\n",
      "[10, 20, 30]\n",
      "['R', 'a', 'h', 'u', 'l', ' ', 'G', 'a', 'n', 'd', 'h', 'i']\n",
      "[0, 1, 2, 3, 4, 5, 6, 7, 8, 9]\n"
     ]
    }
   ],
   "source": [
    "l1=list([10,20,30])\n",
    "l2=list((10,20,30))\n",
    "l3=list({10,20,30})\n",
    "l4=list((\"Rahul Gandhi\"))\n",
    "l5=list(range(10))\n",
    "print(l1)\n",
    "print(l2)\n",
    "print(l3)\n",
    "print(l4)\n",
    "print(l5)"
   ]
  },
  {
   "cell_type": "code",
   "execution_count": 10,
   "id": "16a38692-cce5-4ae1-89dc-f0de6307dd98",
   "metadata": {},
   "outputs": [
    {
     "name": "stdin",
     "output_type": "stream",
     "text": [
      "enter list value 80.8\n"
     ]
    },
    {
     "name": "stdout",
     "output_type": "stream",
     "text": [
      "80.8\n",
      "<class 'float'>\n"
     ]
    }
   ],
   "source": [
    "l1=eval(input(\"enter list value\"))\n",
    "print(l1)\n",
    "print(type(l1))"
   ]
  },
  {
   "cell_type": "code",
   "execution_count": 11,
   "id": "98812c1b-60e2-4742-9a16-e5877599bff6",
   "metadata": {},
   "outputs": [
    {
     "name": "stdout",
     "output_type": "stream",
     "text": [
      "<class 'list'>\n"
     ]
    }
   ],
   "source": [
    "l1=\"Rahul Gandhi\".split()\n",
    "print(type(l1))\n"
   ]
  },
  {
   "cell_type": "code",
   "execution_count": 13,
   "id": "efba4905-6090-40b6-8d35-97fdda89c329",
   "metadata": {},
   "outputs": [
    {
     "name": "stdout",
     "output_type": "stream",
     "text": [
      "<class 'list'>\n"
     ]
    }
   ],
   "source": [
    "l1=[10,20,30]\n",
    "l2=l1.copy()\n",
    "print(type(l1))\n"
   ]
  },
  {
   "cell_type": "code",
   "execution_count": null,
   "id": "012fb3c7-f20d-4aab-aaf6-c06c563dad70",
   "metadata": {},
   "outputs": [],
   "source": []
  }
 ],
 "metadata": {
  "kernelspec": {
   "display_name": "Python 3 (ipykernel)",
   "language": "python",
   "name": "python3"
  },
  "language_info": {
   "codemirror_mode": {
    "name": "ipython",
    "version": 3
   },
   "file_extension": ".py",
   "mimetype": "text/x-python",
   "name": "python",
   "nbconvert_exporter": "python",
   "pygments_lexer": "ipython3",
   "version": "3.12.3"
  }
 },
 "nbformat": 4,
 "nbformat_minor": 5
}
