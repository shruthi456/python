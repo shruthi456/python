{
 "cells": [
  {
   "cell_type": "code",
   "execution_count": 1,
   "id": "24cd900c-6830-481c-83cb-098df49bb6ef",
   "metadata": {},
   "outputs": [
    {
     "name": "stdout",
     "output_type": "stream",
     "text": [
      "[36, 37, 38, 39, 40]\n"
     ]
    }
   ],
   "source": [
    "marks=[35,36,37,38,39]\n",
    "print(list(map(lambda m:m+1,[35,36,37,38,39])))"
   ]
  },
  {
   "cell_type": "code",
   "execution_count": 8,
   "id": "7a84cfd1-0c66-400f-8d78-a097efa7124d",
   "metadata": {},
   "outputs": [
    {
     "name": "stdout",
     "output_type": "stream",
     "text": [
      "SUSHAY\n"
     ]
    }
   ],
   "source": [
    "def uppercase(name):\n",
    "    return name.upper()\n",
    "\n",
    "name=uppercase('sushay')\n",
    "print(name)"
   ]
  },
  {
   "cell_type": "code",
   "execution_count": 10,
   "id": "659665ff-07cb-45d9-9b8a-18b6ba769806",
   "metadata": {},
   "outputs": [
    {
     "name": "stdout",
     "output_type": "stream",
     "text": [
      "['rahul', 'sonia', 'priya']\n",
      "['RAHUL', 'SONIA', 'PRIYA']\n"
     ]
    }
   ],
   "source": [
    "enames=['rahul','sonia','priya']\n",
    "def uppercase(name):\n",
    "    return name.upper()\n",
    "\n",
    "map_ref=map(uppercase,enames)\n",
    "new_enames=list(map_ref)\n",
    "print(enames)\n",
    "print(new_enames)"
   ]
  },
  {
   "cell_type": "code",
   "execution_count": 12,
   "id": "7635c1cc-da59-4ed9-8b8a-2a7e34ed59e9",
   "metadata": {},
   "outputs": [
    {
     "name": "stdout",
     "output_type": "stream",
     "text": [
      "[1, 2, 3, 4, 5, 6, 7, 8, 9, 10]\n",
      "[1, 3, 5, 7, 9]\n"
     ]
    }
   ],
   "source": [
    "numbers=[1,2,3,4,5,6,7,8,9,10]\n",
    "odd_numbers=[]\n",
    "for number in numbers:\n",
    "    if number%2!=0:\n",
    "        odd_numbers.append(number)\n",
    "\n",
    "print(numbers)\n",
    "print(odd_numbers)"
   ]
  },
  {
   "cell_type": "code",
   "execution_count": 13,
   "id": "169524e9-3c60-4e9c-ab6b-f888b852d82f",
   "metadata": {},
   "outputs": [
    {
     "name": "stdout",
     "output_type": "stream",
     "text": [
      "[1, 2, 3, 4, 5, 6, 7, 8, 9, 10]\n",
      "[2, 4, 6, 8, 10]\n"
     ]
    }
   ],
   "source": [
    "numbers=[1,2,3,4,5,6,7,8,9,10]\n",
    "even_numbers=[]\n",
    "for number in numbers:\n",
    "    if number%2==0:\n",
    "        even_numbers.append(number)\n",
    "\n",
    "print(numbers)\n",
    "print(even_numbers)"
   ]
  },
  {
   "cell_type": "code",
   "execution_count": 16,
   "id": "d05a25d7-e6ee-4d0d-9734-b84da6adaedb",
   "metadata": {},
   "outputs": [
    {
     "name": "stdout",
     "output_type": "stream",
     "text": [
      "[4, 6, 8, 10, 12, 14, 16, 18, 20]\n"
     ]
    }
   ],
   "source": [
    "numbers=[2,3,4,5,6,7,8,9,10]\n",
    "new_numbers=list(map(lambda num:num*2, numbers))\n",
    "print(new_numbers)"
   ]
  },
  {
   "cell_type": "code",
   "execution_count": 15,
   "id": "a15c40b9-910b-42b7-a9db-0380bed37534",
   "metadata": {},
   "outputs": [
    {
     "name": "stdout",
     "output_type": "stream",
     "text": [
      "[1, 2, 3, 4, 5, 6, 7, 8, 9, 10]\n"
     ]
    }
   ],
   "source": [
    "numbers=[1,2,3,4,5,6,7,8,9,10]\n",
    "new_numbers=list(filter(lambda num:num*2, numbers))\n",
    "print(new_numbers)"
   ]
  },
  {
   "cell_type": "code",
   "execution_count": null,
   "id": "cfcfa94e-8afe-4e8e-ac0a-e4d10e29ac92",
   "metadata": {},
   "outputs": [],
   "source": []
  }
 ],
 "metadata": {
  "kernelspec": {
   "display_name": "Python 3 (ipykernel)",
   "language": "python",
   "name": "python3"
  },
  "language_info": {
   "codemirror_mode": {
    "name": "ipython",
    "version": 3
   },
   "file_extension": ".py",
   "mimetype": "text/x-python",
   "name": "python",
   "nbconvert_exporter": "python",
   "pygments_lexer": "ipython3",
   "version": "3.12.3"
  }
 },
 "nbformat": 4,
 "nbformat_minor": 5
}
