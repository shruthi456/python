{
 "cells": [
  {
   "cell_type": "code",
   "execution_count": 3,
   "id": "5e9546c7-6726-4ff8-a310-fc86d33bf16b",
   "metadata": {},
   "outputs": [
    {
     "name": "stdout",
     "output_type": "stream",
     "text": [
      "30\n",
      "400\n"
     ]
    }
   ],
   "source": [
    "#with normal function\n",
    "def add (a,b):\n",
    "    return a+b\n",
    "\n",
    "print(add(10,20))\n",
    "print(add(100,300))"
   ]
  },
  {
   "cell_type": "code",
   "execution_count": 8,
   "id": "c2e6f736-927d-49f3-91b8-250d47ed494e",
   "metadata": {},
   "outputs": [
    {
     "name": "stdout",
     "output_type": "stream",
     "text": [
      "30\n"
     ]
    }
   ],
   "source": [
    "#with lambda\n",
    "add=lambda a,b : a+b\n",
    "print(add(10,20))\n"
   ]
  },
  {
   "cell_type": "code",
   "execution_count": 9,
   "id": "73293095-f427-4e8e-b38c-fa36cd4b3352",
   "metadata": {},
   "outputs": [
    {
     "name": "stdout",
     "output_type": "stream",
     "text": [
      "24\n"
     ]
    }
   ],
   "source": [
    "def calc_age(year):\n",
    "    return 2024-year\n",
    "\n",
    "print(calc_age(2000))\n"
   ]
  },
  {
   "cell_type": "code",
   "execution_count": 10,
   "id": "52c9dab3-218a-4e99-8d2d-ce1a4c48d044",
   "metadata": {},
   "outputs": [
    {
     "name": "stdout",
     "output_type": "stream",
     "text": [
      "24\n"
     ]
    }
   ],
   "source": [
    "cala_age=lambda year:2024-year\n",
    "age=calc_age(2000)\n",
    "print(age)"
   ]
  },
  {
   "cell_type": "code",
   "execution_count": 23,
   "id": "57ff1783-8c5b-4b8a-b627-b9aa070420ea",
   "metadata": {},
   "outputs": [
    {
     "name": "stdout",
     "output_type": "stream",
     "text": [
      "49\n"
     ]
    }
   ],
   "source": [
    "sqrt=lambda x:x*x\n",
    "print(sqrt(7))"
   ]
  },
  {
   "cell_type": "code",
   "execution_count": 29,
   "id": "2d97016f-2454-45c4-86af-3ac568921880",
   "metadata": {},
   "outputs": [
    {
     "name": "stdout",
     "output_type": "stream",
     "text": [
      "[35, 36, 37, 38, 39]\n"
     ]
    }
   ],
   "source": [
    "marks=[35,36,37,38,39]\n",
    "def add_mark(mark):\n",
    "    return mark+1\n",
    "\n",
    "print(marks)\n"
   ]
  },
  {
   "cell_type": "code",
   "execution_count": null,
   "id": "2b6a3c62-90ab-4e48-b0c6-3e40d34e41fb",
   "metadata": {},
   "outputs": [],
   "source": []
  }
 ],
 "metadata": {
  "kernelspec": {
   "display_name": "Python 3 (ipykernel)",
   "language": "python",
   "name": "python3"
  },
  "language_info": {
   "codemirror_mode": {
    "name": "ipython",
    "version": 3
   },
   "file_extension": ".py",
   "mimetype": "text/x-python",
   "name": "python",
   "nbconvert_exporter": "python",
   "pygments_lexer": "ipython3",
   "version": "3.12.3"
  }
 },
 "nbformat": 4,
 "nbformat_minor": 5
}
