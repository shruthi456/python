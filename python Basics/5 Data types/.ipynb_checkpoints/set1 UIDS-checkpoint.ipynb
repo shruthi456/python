{
 "cells": [
  {
   "cell_type": "code",
   "execution_count": 4,
   "id": "a2638506-8830-4c7b-8c49-1cfde2c20b7a",
   "metadata": {},
   "outputs": [
    {
     "data": {
      "text/plain": [
       "{10, 20, 30, 40, 50, 60}"
      ]
     },
     "execution_count": 4,
     "metadata": {},
     "output_type": "execute_result"
    }
   ],
   "source": [
    "#union\n",
    "s1={10,20,30,40}\n",
    "s2={30,40,50,60}\n",
    "s1.union(s2)"
   ]
  },
  {
   "cell_type": "code",
   "execution_count": 5,
   "id": "a6a42669-0dbb-4295-9710-0473c4fde926",
   "metadata": {},
   "outputs": [
    {
     "data": {
      "text/plain": [
       "{10, 20, 30, 40, 50, 60}"
      ]
     },
     "execution_count": 5,
     "metadata": {},
     "output_type": "execute_result"
    }
   ],
   "source": [
    "#union\n",
    "s1={10,20,30,40}\n",
    "s2={30,40,50,60}\n",
    "s1|(s2)"
   ]
  },
  {
   "cell_type": "code",
   "execution_count": 6,
   "id": "d9859fc1-5850-4b6c-b12d-0e78a8edc58c",
   "metadata": {},
   "outputs": [
    {
     "data": {
      "text/plain": [
       "{30, 40}"
      ]
     },
     "execution_count": 6,
     "metadata": {},
     "output_type": "execute_result"
    }
   ],
   "source": [
    "#intersection\n",
    "s1={10,20,30,40}\n",
    "s2={30,40,50,60}\n",
    "s1.intersection(s2)"
   ]
  },
  {
   "cell_type": "code",
   "execution_count": 8,
   "id": "b1d950be-1a32-4da1-a8f0-ec1407b4d1ce",
   "metadata": {},
   "outputs": [
    {
     "data": {
      "text/plain": [
       "{30, 40}"
      ]
     },
     "execution_count": 8,
     "metadata": {},
     "output_type": "execute_result"
    }
   ],
   "source": [
    "#intersection\n",
    "s1={10,20,30,40}\n",
    "s2={30,40,50,60}\n",
    "s1&s2"
   ]
  },
  {
   "cell_type": "code",
   "execution_count": 9,
   "id": "e7f9524c-1776-4394-bea9-3ddca0fb6934",
   "metadata": {},
   "outputs": [
    {
     "data": {
      "text/plain": [
       "{10, 20}"
      ]
     },
     "execution_count": 9,
     "metadata": {},
     "output_type": "execute_result"
    }
   ],
   "source": [
    "#difference\n",
    "s1={10,20,30,40}\n",
    "s2={30,40,50,60}\n",
    "s1.difference (s2)"
   ]
  },
  {
   "cell_type": "code",
   "execution_count": 10,
   "id": "60284bb7-1138-4229-ba47-773b7544fd38",
   "metadata": {},
   "outputs": [
    {
     "data": {
      "text/plain": [
       "{10, 20}"
      ]
     },
     "execution_count": 10,
     "metadata": {},
     "output_type": "execute_result"
    }
   ],
   "source": [
    "#difference\n",
    "s1={10,20,30,40}\n",
    "s2={30,40,50,60}\n",
    "s1-s2"
   ]
  },
  {
   "cell_type": "code",
   "execution_count": 13,
   "id": "f1a7b00e-b467-4896-8c69-39a7d9385c1f",
   "metadata": {},
   "outputs": [
    {
     "data": {
      "text/plain": [
       "{10, 20, 50, 60}"
      ]
     },
     "execution_count": 13,
     "metadata": {},
     "output_type": "execute_result"
    }
   ],
   "source": [
    "#symmentric\n",
    "s1={10,20,30,40}\n",
    "s2={30,40,50,60}\n",
    "s1.symmetric_difference(s2)\n",
    "\n"
   ]
  },
  {
   "cell_type": "code",
   "execution_count": 14,
   "id": "660b208a-6fad-4dbe-bdba-2c2d1f17888f",
   "metadata": {},
   "outputs": [
    {
     "data": {
      "text/plain": [
       "{10, 20, 50, 60}"
      ]
     },
     "execution_count": 14,
     "metadata": {},
     "output_type": "execute_result"
    }
   ],
   "source": [
    "#symmentric\n",
    "s1={10,20,30,40}\n",
    "s2={30,40,50,60}\n",
    "s1^s2"
   ]
  },
  {
   "cell_type": "code",
   "execution_count": null,
   "id": "6f2974b8-454e-45a0-bdc5-36a272e38099",
   "metadata": {},
   "outputs": [],
   "source": []
  }
 ],
 "metadata": {
  "kernelspec": {
   "display_name": "Python 3 (ipykernel)",
   "language": "python",
   "name": "python3"
  },
  "language_info": {
   "codemirror_mode": {
    "name": "ipython",
    "version": 3
   },
   "file_extension": ".py",
   "mimetype": "text/x-python",
   "name": "python",
   "nbconvert_exporter": "python",
   "pygments_lexer": "ipython3",
   "version": "3.12.3"
  }
 },
 "nbformat": 4,
 "nbformat_minor": 5
}
