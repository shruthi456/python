{
 "cells": [
  {
   "cell_type": "code",
   "execution_count": 8,
   "id": "b364bf93-40cd-4717-9567-ada9d555626e",
   "metadata": {},
   "outputs": [
    {
     "name": "stdout",
     "output_type": "stream",
     "text": [
      "Shruthi\n",
      "Sushma\n",
      "Saritha\n"
     ]
    }
   ],
   "source": [
    "employees=[\n",
    "{'id':101,'name':'Shruthi','sal':45000},\n",
    " {'id':102,'name':'Sushma','sal':5500},\n",
    "{'id':103,'name':'Saritha','sal':6500}\n",
    "]\n",
    "for employee in employees:\n",
    "    print(employee['name'])"
   ]
  },
  {
   "cell_type": "code",
   "execution_count": 9,
   "id": "98ebbf83-fba7-42ba-8e8d-d2695fc8f371",
   "metadata": {},
   "outputs": [
    {
     "name": "stdout",
     "output_type": "stream",
     "text": [
      "Addition\n",
      "Addition\n"
     ]
    }
   ],
   "source": [
    "#function\n",
    "#with out argument\n",
    "def add():\n",
    "    print('Addition')\n",
    "\n",
    "add()\n",
    "add()"
   ]
  },
  {
   "cell_type": "code",
   "execution_count": 12,
   "id": "223a3704-7d43-431d-86ac-3f393ad6f71a",
   "metadata": {},
   "outputs": [
    {
     "name": "stdout",
     "output_type": "stream",
     "text": [
      "30\n",
      "27\n"
     ]
    }
   ],
   "source": [
    "#with arguments\n",
    "def add(a,b):\n",
    "    print(a+b)\n",
    "\n",
    "add(10,20)\n",
    "add(12,15)"
   ]
  },
  {
   "cell_type": "code",
   "execution_count": 20,
   "id": "037e6d63-18e2-4f85-ae50-6de92186945b",
   "metadata": {},
   "outputs": [
    {
     "name": "stdout",
     "output_type": "stream",
     "text": [
      "31\n",
      "4\n"
     ]
    }
   ],
   "source": [
    "#with argument n return\n",
    "def add(a,b):\n",
    "    c=1\n",
    "    return a+b+c\n",
    "r1=add(10,20)\n",
    "print(r1)\n",
    "r2=add(1,2)\n",
    "print(r2)"
   ]
  },
  {
   "cell_type": "code",
   "execution_count": 23,
   "id": "962fee73-7b32-42d8-9fc0-38e6a12551e7",
   "metadata": {},
   "outputs": [
    {
     "name": "stdout",
     "output_type": "stream",
     "text": [
      "24\n"
     ]
    }
   ],
   "source": [
    "def cal_Age (Year):\n",
    "    current_year = 2024\n",
    "    return current_year-Year\n",
    "age= cal_Age(2000)\n",
    "print(age)"
   ]
  },
  {
   "cell_type": "code",
   "execution_count": null,
   "id": "5b8f68e6-aee3-4411-8ade-8d291c6ea8a1",
   "metadata": {},
   "outputs": [],
   "source": []
  }
 ],
 "metadata": {
  "kernelspec": {
   "display_name": "Python 3 (ipykernel)",
   "language": "python",
   "name": "python3"
  },
  "language_info": {
   "codemirror_mode": {
    "name": "ipython",
    "version": 3
   },
   "file_extension": ".py",
   "mimetype": "text/x-python",
   "name": "python",
   "nbconvert_exporter": "python",
   "pygments_lexer": "ipython3",
   "version": "3.12.3"
  }
 },
 "nbformat": 4,
 "nbformat_minor": 5
}
