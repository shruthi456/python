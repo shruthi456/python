{
 "cells": [
  {
   "cell_type": "code",
   "execution_count": 1,
   "id": "a4fca4e7-8340-44e2-b6da-6ac3797aba82",
   "metadata": {},
   "outputs": [
    {
     "name": "stdout",
     "output_type": "stream",
     "text": [
      "{101, 102, 103}\n",
      "{0, 1, 2, 3, 4, 5, 6, 7, 8, 9}\n"
     ]
    }
   ],
   "source": [
    "ids1={101,102,103}\n",
    "ids2=set(range(10))\n",
    "print(ids1)\n",
    "print(ids2)\n"
   ]
  },
  {
   "cell_type": "code",
   "execution_count": 2,
   "id": "6b17db0a-e946-4624-8ca0-0fc4ec8d23bd",
   "metadata": {},
   "outputs": [
    {
     "name": "stdout",
     "output_type": "stream",
     "text": [
      "{104, 101, 102}\n"
     ]
    }
   ],
   "source": [
    "#remove\n",
    "ids={101,102,103,104}\n",
    "ids.remove(103)\n",
    "print(ids)"
   ]
  },
  {
   "cell_type": "code",
   "execution_count": 3,
   "id": "0db5e1c8-e83c-491a-b710-a2c162b72273",
   "metadata": {},
   "outputs": [
    {
     "ename": "KeyError",
     "evalue": "105",
     "output_type": "error",
     "traceback": [
      "\u001b[1;31m---------------------------------------------------------------------------\u001b[0m",
      "\u001b[1;31mKeyError\u001b[0m                                  Traceback (most recent call last)",
      "Cell \u001b[1;32mIn[3], line 3\u001b[0m\n\u001b[0;32m      1\u001b[0m \u001b[38;5;66;03m#remove\u001b[39;00m\n\u001b[0;32m      2\u001b[0m ids\u001b[38;5;241m=\u001b[39m{\u001b[38;5;241m101\u001b[39m,\u001b[38;5;241m102\u001b[39m,\u001b[38;5;241m103\u001b[39m,\u001b[38;5;241m104\u001b[39m}\n\u001b[1;32m----> 3\u001b[0m \u001b[43mids\u001b[49m\u001b[38;5;241;43m.\u001b[39;49m\u001b[43mremove\u001b[49m\u001b[43m(\u001b[49m\u001b[38;5;241;43m105\u001b[39;49m\u001b[43m)\u001b[49m\n\u001b[0;32m      4\u001b[0m \u001b[38;5;28mprint\u001b[39m(ids)\n",
      "\u001b[1;31mKeyError\u001b[0m: 105"
     ]
    }
   ],
   "source": [
    "\n",
    "#remove\n",
    "ids={101,102,103,104}\n",
    "ids.remove(105)\n",
    "print(ids)\n"
   ]
  },
  {
   "cell_type": "code",
   "execution_count": 4,
   "id": "86f36700-a581-40e3-ba67-eada4f16a252",
   "metadata": {},
   "outputs": [
    {
     "name": "stdout",
     "output_type": "stream",
     "text": [
      "{101, 102, 103, 105}\n"
     ]
    }
   ],
   "source": [
    "#discard\n",
    "ids={101,102,103,104,105}\n",
    "ids.discard(104)\n",
    "print(ids)"
   ]
  },
  {
   "cell_type": "code",
   "execution_count": 5,
   "id": "bfaad114-8653-4d7e-aa25-d12a162c264e",
   "metadata": {},
   "outputs": [
    {
     "name": "stdout",
     "output_type": "stream",
     "text": [
      "{101, 102, 103, 104, 105}\n"
     ]
    }
   ],
   "source": [
    "#discard\n",
    "ids={101,102,103,104,105}\n",
    "ids.discard(106)\n",
    "print(ids)"
   ]
  },
  {
   "cell_type": "code",
   "execution_count": 6,
   "id": "b7148a3c-5e2a-4ccf-b194-b88cb5492541",
   "metadata": {},
   "outputs": [
    {
     "name": "stdout",
     "output_type": "stream",
     "text": [
      "{101, 102, 198, 109}\n"
     ]
    }
   ],
   "source": [
    "#pop\n",
    "ids={101,102,103,109,198}\n",
    "ids.pop()\n",
    "print(ids)"
   ]
  },
  {
   "cell_type": "code",
   "execution_count": 7,
   "id": "53ed2df5-5de2-4b7b-bafd-546f57e10edc",
   "metadata": {},
   "outputs": [
    {
     "name": "stdout",
     "output_type": "stream",
     "text": [
      "set()\n"
     ]
    }
   ],
   "source": [
    "#clear\n",
    "ids={15,38,490,47,274,79,707,977}\n",
    "ids.clear()\n",
    "print(ids)"
   ]
  },
  {
   "cell_type": "code",
   "execution_count": null,
   "id": "8fc55dea-d443-47c1-8dbd-07eab50d2ead",
   "metadata": {},
   "outputs": [],
   "source": []
  }
 ],
 "metadata": {
  "kernelspec": {
   "display_name": "Python 3 (ipykernel)",
   "language": "python",
   "name": "python3"
  },
  "language_info": {
   "codemirror_mode": {
    "name": "ipython",
    "version": 3
   },
   "file_extension": ".py",
   "mimetype": "text/x-python",
   "name": "python",
   "nbconvert_exporter": "python",
   "pygments_lexer": "ipython3",
   "version": "3.12.3"
  }
 },
 "nbformat": 4,
 "nbformat_minor": 5
}
