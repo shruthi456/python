{
 "cells": [
  {
   "cell_type": "code",
   "execution_count": 2,
   "id": "87b6a448-404b-4632-bcc9-f109ceb8a3d5",
   "metadata": {},
   "outputs": [
    {
     "name": "stdout",
     "output_type": "stream",
     "text": [
      "()\n",
      "<class 'tuple'>\n"
     ]
    }
   ],
   "source": [
    "t1=()\n",
    "print(t1)\n",
    "print(type(t1))"
   ]
  },
  {
   "cell_type": "code",
   "execution_count": 3,
   "id": "1cdc49af-5a4a-41f8-b8da-48260ad1f129",
   "metadata": {},
   "outputs": [
    {
     "name": "stdout",
     "output_type": "stream",
     "text": [
      "(10, 20)\n",
      "(10, 20, 30, [], False, 'Bunny')\n",
      "(0, 1, 2, 3, 4, 5, 6, 7, 8, 9)\n"
     ]
    }
   ],
   "source": [
    "t1=10,20\n",
    "t2=(10,20,30,[],False,\"Bunny\")\n",
    "t3=tuple(range(10))\n",
    "\n",
    "print(t1)\n",
    "print(t2)\n",
    "print(t3)"
   ]
  },
  {
   "cell_type": "code",
   "execution_count": 7,
   "id": "1fccb338-d075-409d-9c73-2f487df0c137",
   "metadata": {},
   "outputs": [
    {
     "name": "stdout",
     "output_type": "stream",
     "text": [
      "(10, 20)\n",
      "(10, 20, True, {}, 'Arjun')\n",
      "(15, 16, 17, 18, 19)\n",
      "<class 'tuple'>\n",
      "<class 'tuple'>\n",
      "<class 'tuple'>\n"
     ]
    }
   ],
   "source": [
    "t1=tuple((10,20))\n",
    "t2=tuple((10,20,True,{},\"Arjun\"))\n",
    "t3=tuple(range(15,20))\n",
    "\n",
    "print(t1)\n",
    "print(t2)\n",
    "print(t3)\n",
    "print(type(t1))\n",
    "print(type(t2))\n",
    "print(type(t3))\n",
    "\n"
   ]
  },
  {
   "cell_type": "code",
   "execution_count": 8,
   "id": "f0f7784f-98c3-4129-96a3-7a3ac11bc469",
   "metadata": {},
   "outputs": [
    {
     "name": "stdout",
     "output_type": "stream",
     "text": [
      "Nithya\n",
      "Meghana\n",
      "Shruthi\n",
      "Kusuma\n"
     ]
    }
   ],
   "source": [
    "names=['Nithya','Meghana','Shruthi','Kusuma']\n",
    "for name in names:\n",
    "    print(name)"
   ]
  },
  {
   "cell_type": "code",
   "execution_count": 9,
   "id": "14426041-5648-4a38-98a0-03bf2b0ae3f6",
   "metadata": {},
   "outputs": [
    {
     "name": "stdout",
     "output_type": "stream",
     "text": [
      "Nithya\n",
      "Meghana\n",
      "Shruthi\n",
      "Kusuma\n"
     ]
    }
   ],
   "source": [
    "names=['Nithya','Meghana','Shruthi','Kusuma']\n",
    "i=0\n",
    "while i<=len(names)-1:\n",
    "    print(names[i])\n",
    "    i=i+1"
   ]
  },
  {
   "cell_type": "code",
   "execution_count": 11,
   "id": "4afcdc9c-fb84-4ef0-9124-296d6e987c1e",
   "metadata": {},
   "outputs": [
    {
     "name": "stdout",
     "output_type": "stream",
     "text": [
      "1\n"
     ]
    }
   ],
   "source": [
    "#count\n",
    "names=['Nithya','Meghana','Shruthi','Kusuma']\n",
    "#names[1]=('Meghana')\n",
    "print(names.count('Shruthi'))"
   ]
  },
  {
   "cell_type": "code",
   "execution_count": 12,
   "id": "e2e435e8-fc74-4e43-b670-5a9539eabaeb",
   "metadata": {},
   "outputs": [
    {
     "name": "stdout",
     "output_type": "stream",
     "text": [
      "1\n"
     ]
    }
   ],
   "source": [
    "#count\n",
    "names=['Nithya','Meghana','Shruthi','Kusuma']\n",
    "#names[1]=('Meghana')\n",
    "print(names.count('Shruthi'))"
   ]
  },
  {
   "cell_type": "code",
   "execution_count": 13,
   "id": "4b64aa3e-6c24-4871-b7e0-4796c11c0cc9",
   "metadata": {},
   "outputs": [
    {
     "name": "stdout",
     "output_type": "stream",
     "text": [
      "2\n"
     ]
    }
   ],
   "source": [
    "#index\n",
    "names=['Nithya','Meghana','Shruthi','Kusuma']\n",
    "names[1]=('Meghana')\n",
    "print(names.index('Shruthi'))"
   ]
  },
  {
   "cell_type": "code",
   "execution_count": 14,
   "id": "8a367cf5-3795-4673-891c-04a0e76d76b1",
   "metadata": {},
   "outputs": [
    {
     "name": "stdout",
     "output_type": "stream",
     "text": [
      "3\n"
     ]
    }
   ],
   "source": [
    "\n",
    "names=['Nithya','Meghana','Shruthi','Kusuma']\n",
    "names[1]=('Meghana')\n",
    "print(names.index('Kusuma'))"
   ]
  },
  {
   "cell_type": "code",
   "execution_count": null,
   "id": "635896c2-9f03-4a82-8693-dc08ccd54809",
   "metadata": {},
   "outputs": [],
   "source": []
  }
 ],
 "metadata": {
  "kernelspec": {
   "display_name": "Python 3 (ipykernel)",
   "language": "python",
   "name": "python3"
  },
  "language_info": {
   "codemirror_mode": {
    "name": "ipython",
    "version": 3
   },
   "file_extension": ".py",
   "mimetype": "text/x-python",
   "name": "python",
   "nbconvert_exporter": "python",
   "pygments_lexer": "ipython3",
   "version": "3.12.3"
  }
 },
 "nbformat": 4,
 "nbformat_minor": 5
}
