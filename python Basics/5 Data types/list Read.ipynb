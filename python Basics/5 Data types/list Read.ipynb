{
 "cells": [
  {
   "cell_type": "code",
   "execution_count": 3,
   "id": "340ad139-f46e-44f2-9638-03bae3a027e9",
   "metadata": {},
   "outputs": [
    {
     "name": "stdout",
     "output_type": "stream",
     "text": [
      "Rahul\n",
      "Sonia\n",
      "Priyanka\n",
      "Priyanka\n",
      "Sonia\n",
      "Rahul\n"
     ]
    }
   ],
   "source": [
    "enames=[\"Rahul\",\"Sonia\",\"Priyanka\"]\n",
    "print(enames[0])\n",
    "print(enames[1])\n",
    "print(enames[2])\n",
    "print(enames[-1])\n",
    "print(enames[-2])\n",
    "print(enames[-3])"
   ]
  },
  {
   "cell_type": "code",
   "execution_count": 4,
   "id": "cb8a2175-c353-486c-a39e-08abd61d77a2",
   "metadata": {},
   "outputs": [
    {
     "name": "stdout",
     "output_type": "stream",
     "text": [
      "Rahul\n",
      "Sonia\n",
      "Priyanka\n"
     ]
    }
   ],
   "source": [
    "enames=[\"Rahul\",\"Sonia\",\"Priyanka\"]\n",
    "for ename in enames:\n",
    "    print(ename)"
   ]
  },
  {
   "cell_type": "code",
   "execution_count": 5,
   "id": "b88267a7-7c5d-4e24-b28b-3e1ed27f2622",
   "metadata": {},
   "outputs": [
    {
     "name": "stdout",
     "output_type": "stream",
     "text": [
      "Rahul\n",
      "Sonia\n",
      "Priyanka\n"
     ]
    }
   ],
   "source": [
    "enames=[\"Rahul\",\"Sonia\",\"Priyanka\"]\n",
    "i=0\n",
    "while i<=len(enames)-1:\n",
    "    print(enames[i])\n",
    "    i=i+1"
   ]
  },
  {
   "cell_type": "code",
   "execution_count": null,
   "id": "cfbce6f8-ef2f-4aa6-acaa-23418e1aa36d",
   "metadata": {},
   "outputs": [],
   "source": []
  }
 ],
 "metadata": {
  "kernelspec": {
   "display_name": "Python 3 (ipykernel)",
   "language": "python",
   "name": "python3"
  },
  "language_info": {
   "codemirror_mode": {
    "name": "ipython",
    "version": 3
   },
   "file_extension": ".py",
   "mimetype": "text/x-python",
   "name": "python",
   "nbconvert_exporter": "python",
   "pygments_lexer": "ipython3",
   "version": "3.12.3"
  }
 },
 "nbformat": 4,
 "nbformat_minor": 5
}
