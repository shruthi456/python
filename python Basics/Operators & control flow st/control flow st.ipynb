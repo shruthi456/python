{
 "cells": [
  {
   "cell_type": "code",
   "execution_count": 5,
   "id": "4060ec98-71c1-4e41-9164-93ad5d88de36",
   "metadata": {},
   "outputs": [
    {
     "name": "stdin",
     "output_type": "stream",
     "text": [
      "enter sal 6000\n"
     ]
    },
    {
     "name": "stdout",
     "output_type": "stream",
     "text": [
      "6000\n",
      "eligible to go trip\n"
     ]
    }
   ],
   "source": [
    "#CONDITIONAL STATEMENT\n",
    "\n",
    "# if condition\n",
    "sal=int(input(\"enter sal\"))\n",
    "if sal>4000:\n",
    "    print(sal)\n",
    "print(\"eligible to go trip\")"
   ]
  },
  {
   "cell_type": "code",
   "execution_count": 7,
   "id": "08afd579-5238-432a-ba4a-66339ed4f0a9",
   "metadata": {},
   "outputs": [
    {
     "name": "stdin",
     "output_type": "stream",
     "text": [
      "enter number 2000\n"
     ]
    },
    {
     "name": "stdout",
     "output_type": "stream",
     "text": [
      "not eligible to go\n"
     ]
    }
   ],
   "source": [
    "#if else condition\n",
    "sal=int(input(\"enter number\"))\n",
    "if sal>4000:\n",
    "    print(\"eligible to go trip\")\n",
    "else:\n",
    "    print(\"not eligible to go\")"
   ]
  },
  {
   "cell_type": "code",
   "execution_count": 8,
   "id": "d998a913-5276-4d7f-938d-e74949785d59",
   "metadata": {},
   "outputs": [
    {
     "name": "stdin",
     "output_type": "stream",
     "text": [
      "enter number 33\n"
     ]
    },
    {
     "name": "stdout",
     "output_type": "stream",
     "text": [
      "given number is not a 3 digit number\n"
     ]
    }
   ],
   "source": [
    "#print 3 digit number or not\n",
    "num=int(input(\"enter number\"))\n",
    "if num>=100 and num<999:\n",
    "    print(\"given number is 3 digit number\")\n",
    "else:\n",
    "    print(\"given number is not a 3 digit number\")"
   ]
  },
  {
   "cell_type": "code",
   "execution_count": 9,
   "id": "fe81d74d-c5e8-4109-9725-b64a8c69df5e",
   "metadata": {},
   "outputs": [
    {
     "name": "stdin",
     "output_type": "stream",
     "text": [
      "enter number 456\n"
     ]
    },
    {
     "name": "stdout",
     "output_type": "stream",
     "text": [
      "given number is 3 digit number\n"
     ]
    }
   ],
   "source": [
    "num=int(input(\"enter number\"))\n",
    "if num>=100 and num<999:\n",
    "    print(\"given number is 3 digit number\")\n",
    "else:\n",
    "    print(\"given number is not a 3 digit number\")"
   ]
  },
  {
   "cell_type": "code",
   "execution_count": 10,
   "id": "ceb43cab-fa3d-469e-87f2-eaa3466523cc",
   "metadata": {},
   "outputs": [
    {
     "name": "stdout",
     "output_type": "stream",
     "text": [
      "0\n",
      "2\n",
      "4\n",
      "6\n",
      "8\n",
      "10\n",
      "12\n",
      "14\n",
      "16\n",
      "18\n"
     ]
    }
   ],
   "source": [
    "#ITERARIVE STATEMENT\n",
    "#print first 10 even number\n",
    "for num in range (0,19,2):\n",
    "    print(num)"
   ]
  },
  {
   "cell_type": "code",
   "execution_count": 11,
   "id": "2d6c0e7c-f266-4251-a365-108e9984d074",
   "metadata": {},
   "outputs": [
    {
     "name": "stdout",
     "output_type": "stream",
     "text": [
      "R\n",
      "a\n",
      "h\n",
      "u\n",
      "l\n",
      " \n",
      "G\n",
      "a\n",
      "n\n",
      "d\n",
      "h\n",
      "i\n"
     ]
    }
   ],
   "source": [
    "for ch in \"Rahul Gandhi\":\n",
    "    print(ch)"
   ]
  },
  {
   "cell_type": "code",
   "execution_count": 12,
   "id": "60349fd1-9b80-413f-9d7a-b8892bb94684",
   "metadata": {},
   "outputs": [
    {
     "name": "stdout",
     "output_type": "stream",
     "text": [
      "104\n",
      "101\n",
      "102\n",
      "103\n"
     ]
    }
   ],
   "source": [
    "# list\n",
    "ids={101,102,103,104}\n",
    "for id in ids:\n",
    "    print(id)"
   ]
  },
  {
   "cell_type": "code",
   "execution_count": 13,
   "id": "8b609ae0-5f6f-4848-a03f-834759bc5a16",
   "metadata": {},
   "outputs": [
    {
     "name": "stdout",
     "output_type": "stream",
     "text": [
      "101\n",
      "102\n",
      "103\n",
      "104\n"
     ]
    }
   ],
   "source": [
    "# tuple\n",
    "ids=(101,102,103,104)\n",
    "for id in ids:\n",
    "    print(id)"
   ]
  },
  {
   "cell_type": "code",
   "execution_count": 14,
   "id": "2eddec10-ef36-4173-bf43-6f0a7c4d6bba",
   "metadata": {},
   "outputs": [
    {
     "name": "stdout",
     "output_type": "stream",
     "text": [
      "101\n",
      "102\n",
      "103\n",
      "104\n"
     ]
    }
   ],
   "source": [
    "# set\n",
    "ids=[101,102,103,104]\n",
    "for id in ids:\n",
    "    print(id)"
   ]
  },
  {
   "cell_type": "code",
   "execution_count": 15,
   "id": "31fb3cc0-19f2-479a-a4e4-77856f5996e6",
   "metadata": {},
   "outputs": [
    {
     "name": "stdout",
     "output_type": "stream",
     "text": [
      "Rahul\n",
      "Sonia\n",
      "Priyanka\n"
     ]
    }
   ],
   "source": [
    "# tuple\n",
    "enames=(\"Rahul\",\"Sonia\",\"Priyanka\")\n",
    "for ename in enames:\n",
    "    print(ename)"
   ]
  },
  {
   "cell_type": "code",
   "execution_count": 1,
   "id": "43daf6aa-8968-4a29-b072-a1c246ea6ffb",
   "metadata": {},
   "outputs": [
    {
     "name": "stdout",
     "output_type": "stream",
     "text": [
      "1\n",
      "2\n",
      "3\n",
      "4\n",
      "5\n"
     ]
    }
   ],
   "source": [
    "#while loop\n",
    "i=1\n",
    "while i<=5:\n",
    "    print(i)\n",
    "    i=i+1\n"
   ]
  },
  {
   "cell_type": "code",
   "execution_count": 2,
   "id": "bc611a77-1e16-4eae-8ee6-4d1e77064e4b",
   "metadata": {},
   "outputs": [
    {
     "name": "stdout",
     "output_type": "stream",
     "text": [
      "Rahul\n",
      "Sonia\n",
      "Priya\n"
     ]
    }
   ],
   "source": [
    "enames=[\"Rahul\",\"Sonia\",\"Priya\"]\n",
    "i=0\n",
    "while i<=len(enames)-1:\n",
    "    print(enames[i])\n",
    "    i=i+1"
   ]
  },
  {
   "cell_type": "code",
   "execution_count": 3,
   "id": "136b9ffa-bd9e-4a58-ab29-ff4557ac6fc1",
   "metadata": {},
   "outputs": [
    {
     "name": "stdout",
     "output_type": "stream",
     "text": [
      "100\n",
      "99\n",
      "98\n",
      "97\n",
      "96\n",
      "95\n",
      "94\n",
      "93\n",
      "92\n",
      "91\n",
      "90\n",
      "89\n",
      "88\n",
      "87\n",
      "86\n",
      "85\n",
      "84\n",
      "83\n",
      "82\n",
      "81\n",
      "80\n",
      "79\n",
      "78\n",
      "77\n",
      "76\n",
      "75\n",
      "74\n",
      "73\n",
      "72\n",
      "71\n",
      "70\n",
      "69\n",
      "68\n",
      "67\n",
      "66\n",
      "65\n",
      "64\n",
      "63\n",
      "62\n",
      "61\n",
      "60\n",
      "59\n",
      "58\n",
      "57\n",
      "56\n",
      "55\n",
      "54\n",
      "53\n",
      "52\n",
      "51\n",
      "50\n"
     ]
    }
   ],
   "source": [
    "#print100-50 using while loop\n",
    "i=100\n",
    "while i>=50:\n",
    "    print(i)\n",
    "    i=i-1\n"
   ]
  },
  {
   "cell_type": "code",
   "execution_count": 8,
   "id": "de13e84c-ea9d-49ac-ac5a-77cc606bdbd8",
   "metadata": {},
   "outputs": [
    {
     "name": "stdout",
     "output_type": "stream",
     "text": [
      "100\n"
     ]
    }
   ],
   "source": [
    "#for loop\n",
    "r1=range(100)\n",
    "print(len(r1))"
   ]
  },
  {
   "cell_type": "code",
   "execution_count": 17,
   "id": "07ca6cc1-e6f7-464f-8ef4-7bdd61da7de2",
   "metadata": {},
   "outputs": [
    {
     "name": "stdout",
     "output_type": "stream",
     "text": [
      "1\n",
      "2\n",
      "3\n",
      "5\n",
      "6\n",
      "7\n",
      "8\n",
      "9\n",
      "10\n"
     ]
    }
   ],
   "source": [
    "#for loop\n",
    "for i in range(1,11):\n",
    "    if i == 4:\n",
    "        continue\n",
    "    print(i)"
   ]
  },
  {
   "cell_type": "code",
   "execution_count": null,
   "id": "9d5d54ba-6421-4de0-a9f3-db510a36f8d8",
   "metadata": {},
   "outputs": [],
   "source": []
  }
 ],
 "metadata": {
  "kernelspec": {
   "display_name": "Python 3 (ipykernel)",
   "language": "python",
   "name": "python3"
  },
  "language_info": {
   "codemirror_mode": {
    "name": "ipython",
    "version": 3
   },
   "file_extension": ".py",
   "mimetype": "text/x-python",
   "name": "python",
   "nbconvert_exporter": "python",
   "pygments_lexer": "ipython3",
   "version": "3.12.3"
  }
 },
 "nbformat": 4,
 "nbformat_minor": 5
}
