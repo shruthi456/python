{
 "cells": [
  {
   "cell_type": "code",
   "execution_count": 5,
   "id": "4060ec98-71c1-4e41-9164-93ad5d88de36",
   "metadata": {},
   "outputs": [
    {
     "name": "stdin",
     "output_type": "stream",
     "text": [
      "enter sal 6000\n"
     ]
    },
    {
     "name": "stdout",
     "output_type": "stream",
     "text": [
      "6000\n",
      "eligible to go trip\n"
     ]
    }
   ],
   "source": [
    "#CONDITIONAL STATEMENT\n",
    "\n",
    "# if condition\n",
    "sal=int(input(\"enter sal\"))\n",
    "if sal>4000:\n",
    "    print(sal)\n",
    "print(\"eligible to go trip\")"
   ]
  },
  {
   "cell_type": "code",
   "execution_count": 7,
   "id": "08afd579-5238-432a-ba4a-66339ed4f0a9",
   "metadata": {},
   "outputs": [
    {
     "name": "stdin",
     "output_type": "stream",
     "text": [
      "enter number 2000\n"
     ]
    },
    {
     "name": "stdout",
     "output_type": "stream",
     "text": [
      "not eligible to go\n"
     ]
    }
   ],
   "source": [
    "#if else condition\n",
    "sal=int(input(\"enter number\"))\n",
    "if sal>4000:\n",
    "    print(\"eligible to go trip\")\n",
    "else:\n",
    "    print(\"not eligible to go\")"
   ]
  },
  {
   "cell_type": "code",
   "execution_count": 8,
   "id": "d998a913-5276-4d7f-938d-e74949785d59",
   "metadata": {},
   "outputs": [
    {
     "name": "stdin",
     "output_type": "stream",
     "text": [
      "enter number 33\n"
     ]
    },
    {
     "name": "stdout",
     "output_type": "stream",
     "text": [
      "given number is not a 3 digit number\n"
     ]
    }
   ],
   "source": [
    "#print 3 digit number or not\n",
    "num=int(input(\"enter number\"))\n",
    "if num>=100 and num<999:\n",
    "    print(\"given number is 3 digit number\")\n",
    "else:\n",
    "    print(\"given number is not a 3 digit number\")"
   ]
  },
  {
   "cell_type": "code",
   "execution_count": 9,
   "id": "fe81d74d-c5e8-4109-9725-b64a8c69df5e",
   "metadata": {},
   "outputs": [
    {
     "name": "stdin",
     "output_type": "stream",
     "text": [
      "enter number 456\n"
     ]
    },
    {
     "name": "stdout",
     "output_type": "stream",
     "text": [
      "given number is 3 digit number\n"
     ]
    }
   ],
   "source": [
    "num=int(input(\"enter number\"))\n",
    "if num>=100 and num<999:\n",
    "    print(\"given number is 3 digit number\")\n",
    "else:\n",
    "    print(\"given number is not a 3 digit number\")"
   ]
  },
  {
   "cell_type": "code",
   "execution_count": 10,
   "id": "ceb43cab-fa3d-469e-87f2-eaa3466523cc",
   "metadata": {},
   "outputs": [
    {
     "name": "stdout",
     "output_type": "stream",
     "text": [
      "0\n",
      "2\n",
      "4\n",
      "6\n",
      "8\n",
      "10\n",
      "12\n",
      "14\n",
      "16\n",
      "18\n"
     ]
    }
   ],
   "source": [
    "#ITERARIVE STATEMENT\n",
    "#print first 10 even number\n",
    "for num in range (0,19,2):\n",
    "    print(num)"
   ]
  },
  {
   "cell_type": "code",
   "execution_count": 11,
   "id": "2d6c0e7c-f266-4251-a365-108e9984d074",
   "metadata": {},
   "outputs": [
    {
     "name": "stdout",
     "output_type": "stream",
     "text": [
      "R\n",
      "a\n",
      "h\n",
      "u\n",
      "l\n",
      " \n",
      "G\n",
      "a\n",
      "n\n",
      "d\n",
      "h\n",
      "i\n"
     ]
    }
   ],
   "source": [
    "for ch in \"Rahul Gandhi\":\n",
    "    print(ch)"
   ]
  },
  {
   "cell_type": "code",
   "execution_count": 12,
   "id": "60349fd1-9b80-413f-9d7a-b8892bb94684",
   "metadata": {},
   "outputs": [
    {
     "name": "stdout",
     "output_type": "stream",
     "text": [
      "104\n",
      "101\n",
      "102\n",
      "103\n"
     ]
    }
   ],
   "source": [
    "# list\n",
    "ids={101,102,103,104}\n",
    "for id in ids:\n",
    "    print(id)"
   ]
  },
  {
   "cell_type": "code",
   "execution_count": 13,
   "id": "8b609ae0-5f6f-4848-a03f-834759bc5a16",
   "metadata": {},
   "outputs": [
    {
     "name": "stdout",
     "output_type": "stream",
     "text": [
      "101\n",
      "102\n",
      "103\n",
      "104\n"
     ]
    }
   ],
   "source": [
    "# tuple\n",
    "ids=(101,102,103,104)\n",
    "for id in ids:\n",
    "    print(id)"
   ]
  },
  {
   "cell_type": "code",
   "execution_count": 14,
   "id": "2eddec10-ef36-4173-bf43-6f0a7c4d6bba",
   "metadata": {},
   "outputs": [
    {
     "name": "stdout",
     "output_type": "stream",
     "text": [
      "101\n",
      "102\n",
      "103\n",
      "104\n"
     ]
    }
   ],
   "source": [
    "# set\n",
    "ids=[101,102,103,104]\n",
    "for id in ids:\n",
    "    print(id)"
   ]
  },
  {
   "cell_type": "code",
   "execution_count": 15,
   "id": "31fb3cc0-19f2-479a-a4e4-77856f5996e6",
   "metadata": {},
   "outputs": [
    {
     "name": "stdout",
     "output_type": "stream",
     "text": [
      "Rahul\n",
      "Sonia\n",
      "Priyanka\n"
     ]
    }
   ],
   "source": [
    "# tuple\n",
    "enames=(\"Rahul\",\"Sonia\",\"Priyanka\")\n",
    "for ename in enames:\n",
    "    print(ename)"
   ]
  },
  {
   "cell_type": "code",
   "execution_count": null,
   "id": "43daf6aa-8968-4a29-b072-a1c246ea6ffb",
   "metadata": {},
   "outputs": [],
   "source": []
  }
 ],
 "metadata": {
  "kernelspec": {
   "display_name": "Python 3 (ipykernel)",
   "language": "python",
   "name": "python3"
  },
  "language_info": {
   "codemirror_mode": {
    "name": "ipython",
    "version": 3
   },
   "file_extension": ".py",
   "mimetype": "text/x-python",
   "name": "python",
   "nbconvert_exporter": "python",
   "pygments_lexer": "ipython3",
   "version": "3.12.3"
  }
 },
 "nbformat": 4,
 "nbformat_minor": 5
}
