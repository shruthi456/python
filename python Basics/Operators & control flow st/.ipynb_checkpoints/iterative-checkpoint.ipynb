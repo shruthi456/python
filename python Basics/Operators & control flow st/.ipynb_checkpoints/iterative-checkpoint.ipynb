{
 "cells": [
  {
   "cell_type": "code",
   "execution_count": 1,
   "id": "decb9316-4b76-471a-afbb-c6113782c6f8",
   "metadata": {},
   "outputs": [
    {
     "name": "stdout",
     "output_type": "stream",
     "text": [
      "1\n",
      "2\n",
      "3\n",
      "4\n",
      "5\n"
     ]
    }
   ],
   "source": [
    "#while loop \n",
    "i=1\n",
    "while i<=5:\n",
    "    print(i)\n",
    "    i=i+1"
   ]
  },
  {
   "cell_type": "code",
   "execution_count": 2,
   "id": "167a6c82-283c-430f-a7d1-3c73182041d3",
   "metadata": {},
   "outputs": [
    {
     "name": "stdout",
     "output_type": "stream",
     "text": [
      "1\n",
      "2\n",
      "3\n",
      "4\n",
      "5\n",
      "6\n",
      "7\n",
      "8\n",
      "9\n",
      "10\n"
     ]
    }
   ],
   "source": [
    "i=1\n",
    "while i<=10:\n",
    "    print(i)\n",
    "    i=i+1\n"
   ]
  },
  {
   "cell_type": "code",
   "execution_count": 4,
   "id": "becd552c-9443-431a-a42c-56034274a546",
   "metadata": {},
   "outputs": [
    {
     "name": "stdout",
     "output_type": "stream",
     "text": [
      "<class 'list'>\n"
     ]
    }
   ],
   "source": [
    "enames=[\"Rahul\",\"Sonia\",\"Priyanka\",\"Modi\"]\n",
    "print(type(enames))"
   ]
  },
  {
   "cell_type": "code",
   "execution_count": 5,
   "id": "a894ce02-1681-4190-8d54-ceab9baef074",
   "metadata": {},
   "outputs": [
    {
     "name": "stdout",
     "output_type": "stream",
     "text": [
      "4\n"
     ]
    }
   ],
   "source": [
    "print(len(enames))"
   ]
  },
  {
   "cell_type": "code",
   "execution_count": null,
   "id": "b7ace99f-3c59-44bf-b1cd-a992cb2307fe",
   "metadata": {},
   "outputs": [],
   "source": [
    "enames=[\"Rahul\",\"Sonia\",\"Priyanka\",\"Modi\"]  \n",
    "i=0\n",
    "while 1<=len(enames)-1:\n",
    "    print(enames[0])\n",
    "    i=i+1"
   ]
  },
  {
   "cell_type": "code",
   "execution_count": null,
   "id": "6921a6a4-523e-40ed-8e4b-6401b9bcfd8e",
   "metadata": {},
   "outputs": [],
   "source": []
  },
  {
   "cell_type": "code",
   "execution_count": null,
   "id": "9b856c9b-89c3-4cff-ba12-475a905b51cb",
   "metadata": {},
   "outputs": [],
   "source": []
  },
  {
   "cell_type": "code",
   "execution_count": null,
   "id": "57bc71fe-ffbf-4383-bb54-f4882ae9010d",
   "metadata": {},
   "outputs": [],
   "source": []
  }
 ],
 "metadata": {
  "kernelspec": {
   "display_name": "Python 3 (ipykernel)",
   "language": "python",
   "name": "python3"
  },
  "language_info": {
   "codemirror_mode": {
    "name": "ipython",
    "version": 3
   },
   "file_extension": ".py",
   "mimetype": "text/x-python",
   "name": "python",
   "nbconvert_exporter": "python",
   "pygments_lexer": "ipython3",
   "version": "3.12.3"
  }
 },
 "nbformat": 4,
 "nbformat_minor": 5
}
